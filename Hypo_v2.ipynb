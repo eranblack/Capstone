{
 "cells": [
  {
   "cell_type": "code",
   "execution_count": 1,
   "metadata": {},
   "outputs": [
    {
     "name": "stderr",
     "output_type": "stream",
     "text": [
      "/anaconda3/lib/python3.7/site-packages/sklearn/ensemble/weight_boosting.py:29: DeprecationWarning: numpy.core.umath_tests is an internal NumPy module and should not be imported. It will be removed in a future NumPy release.\n",
      "  from numpy.core.umath_tests import inner1d\n"
     ]
    }
   ],
   "source": [
    "import pandas as pd\n",
    "import numpy as np\n",
    "import matplotlib.pyplot as plt\n",
    "import requests\n",
    "from bs4 import BeautifulSoup \n",
    "from sklearn.model_selection import train_test_split\n",
    "from sklearn.ensemble import RandomForestRegressor\n",
    "from sklearn.metrics import mean_squared_error\n",
    "from rfpimp import importances\n",
    "from scipy import stats\n",
    "%matplotlib inline\n",
    "pd.set_option(\"display.max_columns\", 2000)"
   ]
  },
  {
   "cell_type": "code",
   "execution_count": 2,
   "metadata": {},
   "outputs": [],
   "source": [
    "df_full=pd.read_csv('data/Seasons_Stats.csv')\n",
    "df_full.drop(columns='Unnamed: 0', inplace=True)"
   ]
  },
  {
   "cell_type": "code",
   "execution_count": 3,
   "metadata": {},
   "outputs": [
    {
     "name": "stderr",
     "output_type": "stream",
     "text": [
      "/anaconda3/lib/python3.7/site-packages/ipykernel_launcher.py:4: SettingWithCopyWarning: \n",
      "A value is trying to be set on a copy of a slice from a DataFrame.\n",
      "Try using .loc[row_indexer,col_indexer] = value instead\n",
      "\n",
      "See the caveats in the documentation: http://pandas.pydata.org/pandas-docs/stable/indexing.html#indexing-view-versus-copy\n",
      "  after removing the cwd from sys.path.\n",
      "/anaconda3/lib/python3.7/site-packages/ipykernel_launcher.py:6: SettingWithCopyWarning: \n",
      "A value is trying to be set on a copy of a slice from a DataFrame.\n",
      "Try using .loc[row_indexer,col_indexer] = value instead\n",
      "\n",
      "See the caveats in the documentation: http://pandas.pydata.org/pandas-docs/stable/indexing.html#indexing-view-versus-copy\n",
      "  \n",
      "/anaconda3/lib/python3.7/site-packages/ipykernel_launcher.py:7: SettingWithCopyWarning: \n",
      "A value is trying to be set on a copy of a slice from a DataFrame.\n",
      "Try using .loc[row_indexer,col_indexer] = value instead\n",
      "\n",
      "See the caveats in the documentation: http://pandas.pydata.org/pandas-docs/stable/indexing.html#indexing-view-versus-copy\n",
      "  import sys\n"
     ]
    }
   ],
   "source": [
    "df_full.drop(labels='blank2', axis=1, inplace=True)\n",
    "df_full.drop(labels='blanl', axis=1, inplace=True)\n",
    "df=df_full[df_full['Year']>=1980]\n",
    "df['Year']=df['Year'].astype(int)\n",
    "\n",
    "df['Year']=pd.to_datetime(df['Year'], format='%Y')\n",
    "df['Year']=df['Year'].dt.year"
   ]
  },
  {
   "cell_type": "code",
   "execution_count": 4,
   "metadata": {},
   "outputs": [],
   "source": [
    "df_coach=pd.read_csv('data/coach_data_cleaned.csv')\n",
    "df_coach.drop(labels=['Unnamed: 0'],axis=1,inplace=True)"
   ]
  },
  {
   "cell_type": "code",
   "execution_count": 5,
   "metadata": {},
   "outputs": [],
   "source": [
    "df_coach=df_coach[df_coach['season']!='Career']\n",
    "df_coach['season']=df_coach['season'].apply(lambda x: x[:2]+x[-2:]) #code for fixing ther dates"
   ]
  },
  {
   "cell_type": "code",
   "execution_count": 6,
   "metadata": {},
   "outputs": [],
   "source": [
    "df_coach['season']=df_coach['season'].astype(int)"
   ]
  },
  {
   "cell_type": "code",
   "execution_count": 7,
   "metadata": {},
   "outputs": [],
   "source": [
    "df_coach=df_coach[df_coach['season']>=1980]"
   ]
  },
  {
   "cell_type": "code",
   "execution_count": 8,
   "metadata": {},
   "outputs": [],
   "source": [
    "cols=['Team', 'coach_age', 'coach_name', 'season','season_games',\n",
    "       'season_wins', 'season_loses', 'season_W/L%', 'season_position']"
   ]
  },
  {
   "cell_type": "code",
   "execution_count": 10,
   "metadata": {},
   "outputs": [],
   "source": [
    "df_coach=df_coach[cols]"
   ]
  },
  {
   "cell_type": "code",
   "execution_count": 12,
   "metadata": {},
   "outputs": [
    {
     "data": {
      "text/html": [
       "<div>\n",
       "<style scoped>\n",
       "    .dataframe tbody tr th:only-of-type {\n",
       "        vertical-align: middle;\n",
       "    }\n",
       "\n",
       "    .dataframe tbody tr th {\n",
       "        vertical-align: top;\n",
       "    }\n",
       "\n",
       "    .dataframe thead th {\n",
       "        text-align: right;\n",
       "    }\n",
       "</style>\n",
       "<table border=\"1\" class=\"dataframe\">\n",
       "  <thead>\n",
       "    <tr style=\"text-align: right;\">\n",
       "      <th></th>\n",
       "      <th>Team</th>\n",
       "      <th>coach_age</th>\n",
       "      <th>coach_name</th>\n",
       "      <th>season</th>\n",
       "      <th>season_games</th>\n",
       "      <th>season_wins</th>\n",
       "      <th>season_loses</th>\n",
       "      <th>season_W/L%</th>\n",
       "      <th>season_position</th>\n",
       "    </tr>\n",
       "  </thead>\n",
       "  <tbody>\n",
       "    <tr>\n",
       "      <th>147</th>\n",
       "      <td>DEN</td>\n",
       "      <td>52.0</td>\n",
       "      <td>Bernie Bickerstaff</td>\n",
       "      <td>1997</td>\n",
       "      <td>13</td>\n",
       "      <td>4.0</td>\n",
       "      <td>9.0</td>\n",
       "      <td>0.308</td>\n",
       "      <td>5.0</td>\n",
       "    </tr>\n",
       "    <tr>\n",
       "      <th>148</th>\n",
       "      <td>WSB</td>\n",
       "      <td>52.0</td>\n",
       "      <td>Bernie Bickerstaff</td>\n",
       "      <td>1997</td>\n",
       "      <td>35</td>\n",
       "      <td>22.0</td>\n",
       "      <td>13.0</td>\n",
       "      <td>0.629</td>\n",
       "      <td>4.0</td>\n",
       "    </tr>\n",
       "    <tr>\n",
       "      <th>251</th>\n",
       "      <td>SAS</td>\n",
       "      <td>51.0</td>\n",
       "      <td>Larry Brown</td>\n",
       "      <td>1992</td>\n",
       "      <td>38</td>\n",
       "      <td>21.0</td>\n",
       "      <td>17.0</td>\n",
       "      <td>0.553</td>\n",
       "      <td>2.0</td>\n",
       "    </tr>\n",
       "    <tr>\n",
       "      <th>252</th>\n",
       "      <td>LAC</td>\n",
       "      <td>51.0</td>\n",
       "      <td>Larry Brown</td>\n",
       "      <td>1992</td>\n",
       "      <td>35</td>\n",
       "      <td>23.0</td>\n",
       "      <td>12.0</td>\n",
       "      <td>0.657</td>\n",
       "      <td>5.0</td>\n",
       "    </tr>\n",
       "  </tbody>\n",
       "</table>\n",
       "</div>"
      ],
      "text/plain": [
       "    Team  coach_age          coach_name  season  season_games  season_wins  \\\n",
       "147  DEN       52.0  Bernie Bickerstaff    1997            13          4.0   \n",
       "148  WSB       52.0  Bernie Bickerstaff    1997            35         22.0   \n",
       "251  SAS       51.0         Larry Brown    1992            38         21.0   \n",
       "252  LAC       51.0         Larry Brown    1992            35         23.0   \n",
       "\n",
       "     season_loses  season_W/L%  season_position  \n",
       "147           9.0        0.308              5.0  \n",
       "148          13.0        0.629              4.0  \n",
       "251          17.0        0.553              2.0  \n",
       "252          12.0        0.657              5.0  "
      ]
     },
     "execution_count": 12,
     "metadata": {},
     "output_type": "execute_result"
    }
   ],
   "source": [
    "#checking for duplicates:\n",
    "df_coach[df_coach.duplicated(subset=['coach_name','season'], keep=False)]"
   ]
  },
  {
   "cell_type": "code",
   "execution_count": 14,
   "metadata": {},
   "outputs": [],
   "source": [
    "df_coach.drop_duplicates(subset=['coach_name','season'], inplace=True) #dropping duplicates"
   ]
  },
  {
   "cell_type": "code",
   "execution_count": 18,
   "metadata": {},
   "outputs": [],
   "source": [
    "def remove_tot(combined):\n",
    "    tot_player=combined[combined['Tm']=='TOT']['Player'].values\n",
    "    for name in tot_player:\n",
    "        temp=combined[combined['Player']==name]\n",
    "        tot_index=temp[temp['Tm']=='TOT'].index.values\n",
    "        for idx in tot_index:\n",
    "            year=temp.loc[idx]['Year']\n",
    "            year_index=temp[temp['Year']==year].index.values\n",
    "            year_temp=temp[temp['Year']==year]\n",
    "            max_year=((year_temp[year_temp['Tm']!='TOT'])['G'].max())\n",
    "            team=(year_temp[year_temp['G']==max_year])['Tm'].values\n",
    "            team=str(team)\n",
    "            team=team[1:-1]\n",
    "            combined.at[idx,'Tm']=team\n",
    "            for element in year_index:\n",
    "                if element==idx:\n",
    "                    continue\n",
    "                else:\n",
    "                    combined.drop(axis=0, index=element, inplace=True)\n",
    "    return(combined)"
   ]
  },
  {
   "cell_type": "code",
   "execution_count": 25,
   "metadata": {},
   "outputs": [
    {
     "name": "stderr",
     "output_type": "stream",
     "text": [
      "/anaconda3/lib/python3.7/site-packages/pandas/core/frame.py:3697: SettingWithCopyWarning: \n",
      "A value is trying to be set on a copy of a slice from a DataFrame\n",
      "\n",
      "See the caveats in the documentation: http://pandas.pydata.org/pandas-docs/stable/indexing.html#indexing-view-versus-copy\n",
      "  errors=errors)\n"
     ]
    }
   ],
   "source": [
    "df=remove_tot(df)"
   ]
  },
  {
   "cell_type": "code",
   "execution_count": 36,
   "metadata": {},
   "outputs": [
    {
     "data": {
      "text/html": [
       "<div>\n",
       "<style scoped>\n",
       "    .dataframe tbody tr th:only-of-type {\n",
       "        vertical-align: middle;\n",
       "    }\n",
       "\n",
       "    .dataframe tbody tr th {\n",
       "        vertical-align: top;\n",
       "    }\n",
       "\n",
       "    .dataframe thead th {\n",
       "        text-align: right;\n",
       "    }\n",
       "</style>\n",
       "<table border=\"1\" class=\"dataframe\">\n",
       "  <thead>\n",
       "    <tr style=\"text-align: right;\">\n",
       "      <th></th>\n",
       "      <th>Year</th>\n",
       "      <th>Player</th>\n",
       "      <th>Pos</th>\n",
       "      <th>Age</th>\n",
       "      <th>Tm</th>\n",
       "      <th>G</th>\n",
       "      <th>GS</th>\n",
       "      <th>MP</th>\n",
       "      <th>PER</th>\n",
       "      <th>TS%</th>\n",
       "      <th>3PAr</th>\n",
       "      <th>FTr</th>\n",
       "      <th>ORB%</th>\n",
       "      <th>DRB%</th>\n",
       "      <th>TRB%</th>\n",
       "      <th>AST%</th>\n",
       "      <th>STL%</th>\n",
       "      <th>BLK%</th>\n",
       "      <th>TOV%</th>\n",
       "      <th>USG%</th>\n",
       "      <th>OWS</th>\n",
       "      <th>DWS</th>\n",
       "      <th>WS</th>\n",
       "      <th>WS/48</th>\n",
       "      <th>OBPM</th>\n",
       "      <th>DBPM</th>\n",
       "      <th>BPM</th>\n",
       "      <th>VORP</th>\n",
       "      <th>FG</th>\n",
       "      <th>FGA</th>\n",
       "      <th>FG%</th>\n",
       "      <th>3P</th>\n",
       "      <th>3PA</th>\n",
       "      <th>3P%</th>\n",
       "      <th>2P</th>\n",
       "      <th>2PA</th>\n",
       "      <th>2P%</th>\n",
       "      <th>eFG%</th>\n",
       "      <th>FT</th>\n",
       "      <th>FTA</th>\n",
       "      <th>FT%</th>\n",
       "      <th>ORB</th>\n",
       "      <th>DRB</th>\n",
       "      <th>TRB</th>\n",
       "      <th>AST</th>\n",
       "      <th>STL</th>\n",
       "      <th>BLK</th>\n",
       "      <th>TOV</th>\n",
       "      <th>PF</th>\n",
       "      <th>PTS</th>\n",
       "      <th>Team</th>\n",
       "      <th>coach_age</th>\n",
       "      <th>coach_name</th>\n",
       "      <th>season</th>\n",
       "      <th>season_games</th>\n",
       "      <th>season_wins</th>\n",
       "      <th>season_loses</th>\n",
       "      <th>season_W/L%</th>\n",
       "      <th>season_position</th>\n",
       "    </tr>\n",
       "  </thead>\n",
       "  <tbody>\n",
       "    <tr>\n",
       "      <th>0</th>\n",
       "      <td>1980</td>\n",
       "      <td>Kareem Abdul-Jabbar*</td>\n",
       "      <td>C</td>\n",
       "      <td>32.0</td>\n",
       "      <td>LAL</td>\n",
       "      <td>82.0</td>\n",
       "      <td>NaN</td>\n",
       "      <td>3143.0</td>\n",
       "      <td>25.3</td>\n",
       "      <td>0.639</td>\n",
       "      <td>0.001</td>\n",
       "      <td>0.344</td>\n",
       "      <td>7.2</td>\n",
       "      <td>22.2</td>\n",
       "      <td>15.4</td>\n",
       "      <td>16.5</td>\n",
       "      <td>1.2</td>\n",
       "      <td>4.6</td>\n",
       "      <td>15.7</td>\n",
       "      <td>24.1</td>\n",
       "      <td>9.5</td>\n",
       "      <td>5.3</td>\n",
       "      <td>14.8</td>\n",
       "      <td>0.227</td>\n",
       "      <td>4.0</td>\n",
       "      <td>2.7</td>\n",
       "      <td>6.7</td>\n",
       "      <td>6.8</td>\n",
       "      <td>835.0</td>\n",
       "      <td>1383.0</td>\n",
       "      <td>0.604</td>\n",
       "      <td>0.0</td>\n",
       "      <td>1.0</td>\n",
       "      <td>0.0</td>\n",
       "      <td>835.0</td>\n",
       "      <td>1382.0</td>\n",
       "      <td>0.604</td>\n",
       "      <td>0.604</td>\n",
       "      <td>364.0</td>\n",
       "      <td>476.0</td>\n",
       "      <td>0.765</td>\n",
       "      <td>190.0</td>\n",
       "      <td>696.0</td>\n",
       "      <td>886.0</td>\n",
       "      <td>371.0</td>\n",
       "      <td>81.0</td>\n",
       "      <td>280.0</td>\n",
       "      <td>297.0</td>\n",
       "      <td>216.0</td>\n",
       "      <td>2034.0</td>\n",
       "      <td>LAL</td>\n",
       "      <td>44.0</td>\n",
       "      <td>Jack McKinney</td>\n",
       "      <td>1980.0</td>\n",
       "      <td>14.0</td>\n",
       "      <td>10.0</td>\n",
       "      <td>4.0</td>\n",
       "      <td>0.714</td>\n",
       "      <td>1.0</td>\n",
       "    </tr>\n",
       "    <tr>\n",
       "      <th>1</th>\n",
       "      <td>1980</td>\n",
       "      <td>Kareem Abdul-Jabbar*</td>\n",
       "      <td>C</td>\n",
       "      <td>32.0</td>\n",
       "      <td>LAL</td>\n",
       "      <td>82.0</td>\n",
       "      <td>NaN</td>\n",
       "      <td>3143.0</td>\n",
       "      <td>25.3</td>\n",
       "      <td>0.639</td>\n",
       "      <td>0.001</td>\n",
       "      <td>0.344</td>\n",
       "      <td>7.2</td>\n",
       "      <td>22.2</td>\n",
       "      <td>15.4</td>\n",
       "      <td>16.5</td>\n",
       "      <td>1.2</td>\n",
       "      <td>4.6</td>\n",
       "      <td>15.7</td>\n",
       "      <td>24.1</td>\n",
       "      <td>9.5</td>\n",
       "      <td>5.3</td>\n",
       "      <td>14.8</td>\n",
       "      <td>0.227</td>\n",
       "      <td>4.0</td>\n",
       "      <td>2.7</td>\n",
       "      <td>6.7</td>\n",
       "      <td>6.8</td>\n",
       "      <td>835.0</td>\n",
       "      <td>1383.0</td>\n",
       "      <td>0.604</td>\n",
       "      <td>0.0</td>\n",
       "      <td>1.0</td>\n",
       "      <td>0.0</td>\n",
       "      <td>835.0</td>\n",
       "      <td>1382.0</td>\n",
       "      <td>0.604</td>\n",
       "      <td>0.604</td>\n",
       "      <td>364.0</td>\n",
       "      <td>476.0</td>\n",
       "      <td>0.765</td>\n",
       "      <td>190.0</td>\n",
       "      <td>696.0</td>\n",
       "      <td>886.0</td>\n",
       "      <td>371.0</td>\n",
       "      <td>81.0</td>\n",
       "      <td>280.0</td>\n",
       "      <td>297.0</td>\n",
       "      <td>216.0</td>\n",
       "      <td>2034.0</td>\n",
       "      <td>LAL</td>\n",
       "      <td>40.0</td>\n",
       "      <td>Paul Westhead</td>\n",
       "      <td>1980.0</td>\n",
       "      <td>68.0</td>\n",
       "      <td>50.0</td>\n",
       "      <td>18.0</td>\n",
       "      <td>0.735</td>\n",
       "      <td>1.0</td>\n",
       "    </tr>\n",
       "    <tr>\n",
       "      <th>2</th>\n",
       "      <td>1980</td>\n",
       "      <td>Tom Abernethy</td>\n",
       "      <td>PF</td>\n",
       "      <td>25.0</td>\n",
       "      <td>GSW</td>\n",
       "      <td>67.0</td>\n",
       "      <td>NaN</td>\n",
       "      <td>1222.0</td>\n",
       "      <td>11.0</td>\n",
       "      <td>0.511</td>\n",
       "      <td>0.003</td>\n",
       "      <td>0.258</td>\n",
       "      <td>5.4</td>\n",
       "      <td>12.0</td>\n",
       "      <td>8.6</td>\n",
       "      <td>9.3</td>\n",
       "      <td>1.4</td>\n",
       "      <td>0.6</td>\n",
       "      <td>9.9</td>\n",
       "      <td>13.3</td>\n",
       "      <td>1.2</td>\n",
       "      <td>0.8</td>\n",
       "      <td>2.0</td>\n",
       "      <td>0.080</td>\n",
       "      <td>-1.5</td>\n",
       "      <td>-0.1</td>\n",
       "      <td>-1.6</td>\n",
       "      <td>0.1</td>\n",
       "      <td>153.0</td>\n",
       "      <td>318.0</td>\n",
       "      <td>0.481</td>\n",
       "      <td>0.0</td>\n",
       "      <td>1.0</td>\n",
       "      <td>0.0</td>\n",
       "      <td>153.0</td>\n",
       "      <td>317.0</td>\n",
       "      <td>0.483</td>\n",
       "      <td>0.481</td>\n",
       "      <td>56.0</td>\n",
       "      <td>82.0</td>\n",
       "      <td>0.683</td>\n",
       "      <td>62.0</td>\n",
       "      <td>129.0</td>\n",
       "      <td>191.0</td>\n",
       "      <td>87.0</td>\n",
       "      <td>35.0</td>\n",
       "      <td>12.0</td>\n",
       "      <td>39.0</td>\n",
       "      <td>118.0</td>\n",
       "      <td>362.0</td>\n",
       "      <td>GSW</td>\n",
       "      <td>43.0</td>\n",
       "      <td>Al Attles</td>\n",
       "      <td>1980.0</td>\n",
       "      <td>61.0</td>\n",
       "      <td>18.0</td>\n",
       "      <td>43.0</td>\n",
       "      <td>0.295</td>\n",
       "      <td>6.0</td>\n",
       "    </tr>\n",
       "    <tr>\n",
       "      <th>3</th>\n",
       "      <td>1980</td>\n",
       "      <td>Tom Abernethy</td>\n",
       "      <td>PF</td>\n",
       "      <td>25.0</td>\n",
       "      <td>GSW</td>\n",
       "      <td>67.0</td>\n",
       "      <td>NaN</td>\n",
       "      <td>1222.0</td>\n",
       "      <td>11.0</td>\n",
       "      <td>0.511</td>\n",
       "      <td>0.003</td>\n",
       "      <td>0.258</td>\n",
       "      <td>5.4</td>\n",
       "      <td>12.0</td>\n",
       "      <td>8.6</td>\n",
       "      <td>9.3</td>\n",
       "      <td>1.4</td>\n",
       "      <td>0.6</td>\n",
       "      <td>9.9</td>\n",
       "      <td>13.3</td>\n",
       "      <td>1.2</td>\n",
       "      <td>0.8</td>\n",
       "      <td>2.0</td>\n",
       "      <td>0.080</td>\n",
       "      <td>-1.5</td>\n",
       "      <td>-0.1</td>\n",
       "      <td>-1.6</td>\n",
       "      <td>0.1</td>\n",
       "      <td>153.0</td>\n",
       "      <td>318.0</td>\n",
       "      <td>0.481</td>\n",
       "      <td>0.0</td>\n",
       "      <td>1.0</td>\n",
       "      <td>0.0</td>\n",
       "      <td>153.0</td>\n",
       "      <td>317.0</td>\n",
       "      <td>0.483</td>\n",
       "      <td>0.481</td>\n",
       "      <td>56.0</td>\n",
       "      <td>82.0</td>\n",
       "      <td>0.683</td>\n",
       "      <td>62.0</td>\n",
       "      <td>129.0</td>\n",
       "      <td>191.0</td>\n",
       "      <td>87.0</td>\n",
       "      <td>35.0</td>\n",
       "      <td>12.0</td>\n",
       "      <td>39.0</td>\n",
       "      <td>118.0</td>\n",
       "      <td>362.0</td>\n",
       "      <td>GSW</td>\n",
       "      <td>55.0</td>\n",
       "      <td>Johnny Bach</td>\n",
       "      <td>1980.0</td>\n",
       "      <td>21.0</td>\n",
       "      <td>6.0</td>\n",
       "      <td>15.0</td>\n",
       "      <td>0.286</td>\n",
       "      <td>6.0</td>\n",
       "    </tr>\n",
       "    <tr>\n",
       "      <th>4</th>\n",
       "      <td>1980</td>\n",
       "      <td>Alvan Adams</td>\n",
       "      <td>C</td>\n",
       "      <td>25.0</td>\n",
       "      <td>PHO</td>\n",
       "      <td>75.0</td>\n",
       "      <td>NaN</td>\n",
       "      <td>2168.0</td>\n",
       "      <td>19.2</td>\n",
       "      <td>0.571</td>\n",
       "      <td>0.002</td>\n",
       "      <td>0.270</td>\n",
       "      <td>8.2</td>\n",
       "      <td>22.4</td>\n",
       "      <td>15.4</td>\n",
       "      <td>21.6</td>\n",
       "      <td>2.3</td>\n",
       "      <td>1.4</td>\n",
       "      <td>18.2</td>\n",
       "      <td>21.9</td>\n",
       "      <td>3.1</td>\n",
       "      <td>3.9</td>\n",
       "      <td>7.0</td>\n",
       "      <td>0.155</td>\n",
       "      <td>1.6</td>\n",
       "      <td>2.8</td>\n",
       "      <td>4.4</td>\n",
       "      <td>3.5</td>\n",
       "      <td>465.0</td>\n",
       "      <td>875.0</td>\n",
       "      <td>0.531</td>\n",
       "      <td>0.0</td>\n",
       "      <td>2.0</td>\n",
       "      <td>0.0</td>\n",
       "      <td>465.0</td>\n",
       "      <td>873.0</td>\n",
       "      <td>0.533</td>\n",
       "      <td>0.531</td>\n",
       "      <td>188.0</td>\n",
       "      <td>236.0</td>\n",
       "      <td>0.797</td>\n",
       "      <td>158.0</td>\n",
       "      <td>451.0</td>\n",
       "      <td>609.0</td>\n",
       "      <td>322.0</td>\n",
       "      <td>108.0</td>\n",
       "      <td>55.0</td>\n",
       "      <td>218.0</td>\n",
       "      <td>237.0</td>\n",
       "      <td>1118.0</td>\n",
       "      <td>PHO</td>\n",
       "      <td>42.0</td>\n",
       "      <td>John MacLeod</td>\n",
       "      <td>1980.0</td>\n",
       "      <td>82.0</td>\n",
       "      <td>55.0</td>\n",
       "      <td>27.0</td>\n",
       "      <td>0.671</td>\n",
       "      <td>3.0</td>\n",
       "    </tr>\n",
       "  </tbody>\n",
       "</table>\n",
       "</div>"
      ],
      "text/plain": [
       "   Year                Player Pos   Age   Tm     G  GS      MP   PER    TS%  \\\n",
       "0  1980  Kareem Abdul-Jabbar*   C  32.0  LAL  82.0 NaN  3143.0  25.3  0.639   \n",
       "1  1980  Kareem Abdul-Jabbar*   C  32.0  LAL  82.0 NaN  3143.0  25.3  0.639   \n",
       "2  1980         Tom Abernethy  PF  25.0  GSW  67.0 NaN  1222.0  11.0  0.511   \n",
       "3  1980         Tom Abernethy  PF  25.0  GSW  67.0 NaN  1222.0  11.0  0.511   \n",
       "4  1980           Alvan Adams   C  25.0  PHO  75.0 NaN  2168.0  19.2  0.571   \n",
       "\n",
       "    3PAr    FTr  ORB%  DRB%  TRB%  AST%  STL%  BLK%  TOV%  USG%  OWS  DWS  \\\n",
       "0  0.001  0.344   7.2  22.2  15.4  16.5   1.2   4.6  15.7  24.1  9.5  5.3   \n",
       "1  0.001  0.344   7.2  22.2  15.4  16.5   1.2   4.6  15.7  24.1  9.5  5.3   \n",
       "2  0.003  0.258   5.4  12.0   8.6   9.3   1.4   0.6   9.9  13.3  1.2  0.8   \n",
       "3  0.003  0.258   5.4  12.0   8.6   9.3   1.4   0.6   9.9  13.3  1.2  0.8   \n",
       "4  0.002  0.270   8.2  22.4  15.4  21.6   2.3   1.4  18.2  21.9  3.1  3.9   \n",
       "\n",
       "     WS  WS/48  OBPM  DBPM  BPM  VORP     FG     FGA    FG%   3P  3PA  3P%  \\\n",
       "0  14.8  0.227   4.0   2.7  6.7   6.8  835.0  1383.0  0.604  0.0  1.0  0.0   \n",
       "1  14.8  0.227   4.0   2.7  6.7   6.8  835.0  1383.0  0.604  0.0  1.0  0.0   \n",
       "2   2.0  0.080  -1.5  -0.1 -1.6   0.1  153.0   318.0  0.481  0.0  1.0  0.0   \n",
       "3   2.0  0.080  -1.5  -0.1 -1.6   0.1  153.0   318.0  0.481  0.0  1.0  0.0   \n",
       "4   7.0  0.155   1.6   2.8  4.4   3.5  465.0   875.0  0.531  0.0  2.0  0.0   \n",
       "\n",
       "      2P     2PA    2P%   eFG%     FT    FTA    FT%    ORB    DRB    TRB  \\\n",
       "0  835.0  1382.0  0.604  0.604  364.0  476.0  0.765  190.0  696.0  886.0   \n",
       "1  835.0  1382.0  0.604  0.604  364.0  476.0  0.765  190.0  696.0  886.0   \n",
       "2  153.0   317.0  0.483  0.481   56.0   82.0  0.683   62.0  129.0  191.0   \n",
       "3  153.0   317.0  0.483  0.481   56.0   82.0  0.683   62.0  129.0  191.0   \n",
       "4  465.0   873.0  0.533  0.531  188.0  236.0  0.797  158.0  451.0  609.0   \n",
       "\n",
       "     AST    STL    BLK    TOV     PF     PTS Team  coach_age     coach_name  \\\n",
       "0  371.0   81.0  280.0  297.0  216.0  2034.0  LAL       44.0  Jack McKinney   \n",
       "1  371.0   81.0  280.0  297.0  216.0  2034.0  LAL       40.0  Paul Westhead   \n",
       "2   87.0   35.0   12.0   39.0  118.0   362.0  GSW       43.0      Al Attles   \n",
       "3   87.0   35.0   12.0   39.0  118.0   362.0  GSW       55.0    Johnny Bach   \n",
       "4  322.0  108.0   55.0  218.0  237.0  1118.0  PHO       42.0   John MacLeod   \n",
       "\n",
       "   season  season_games  season_wins  season_loses  season_W/L%  \\\n",
       "0  1980.0          14.0         10.0           4.0        0.714   \n",
       "1  1980.0          68.0         50.0          18.0        0.735   \n",
       "2  1980.0          61.0         18.0          43.0        0.295   \n",
       "3  1980.0          21.0          6.0          15.0        0.286   \n",
       "4  1980.0          82.0         55.0          27.0        0.671   \n",
       "\n",
       "   season_position  \n",
       "0              1.0  \n",
       "1              1.0  \n",
       "2              6.0  \n",
       "3              6.0  \n",
       "4              3.0  "
      ]
     },
     "execution_count": 36,
     "metadata": {},
     "output_type": "execute_result"
    }
   ],
   "source": [
    "result.head()"
   ]
  },
  {
   "cell_type": "code",
   "execution_count": 35,
   "metadata": {},
   "outputs": [],
   "source": [
    "# merging the tables:\n",
    "result=pd.merge(df,df_coach, how='inner', left_on=['Year','Tm'], right_on=['season','Team'])"
   ]
  },
  {
   "cell_type": "code",
   "execution_count": 37,
   "metadata": {},
   "outputs": [
    {
     "data": {
      "text/plain": [
       "(17506, 59)"
      ]
     },
     "execution_count": 37,
     "metadata": {},
     "output_type": "execute_result"
    }
   ],
   "source": [
    "result.shape"
   ]
  },
  {
   "cell_type": "code",
   "execution_count": 49,
   "metadata": {},
   "outputs": [],
   "source": [
    "result=result.drop_duplicates(subset=['Year','Player'])"
   ]
  },
  {
   "cell_type": "code",
   "execution_count": 98,
   "metadata": {},
   "outputs": [
    {
     "data": {
      "text/plain": [
       "array(['Year', 'Player', 'Pos', 'Age', 'Tm', 'G', 'GS', 'MP', 'PER',\n",
       "       'TS%', '3PAr', 'FTr', 'ORB%', 'DRB%', 'TRB%', 'AST%', 'STL%',\n",
       "       'BLK%', 'TOV%', 'USG%', 'OWS', 'DWS', 'WS', 'WS/48', 'OBPM',\n",
       "       'DBPM', 'BPM', 'VORP', 'FG', 'FGA', 'FG%', '3P', '3PA', '3P%',\n",
       "       '2P', '2PA', '2P%', 'eFG%', 'FT', 'FTA', 'FT%', 'ORB', 'DRB',\n",
       "       'TRB', 'AST', 'STL', 'BLK', 'TOV', 'PF', 'PTS', 'Team',\n",
       "       'coach_age', 'coach_name', 'season', 'season_games', 'season_wins',\n",
       "       'season_loses', 'season_W/L%', 'season_position'], dtype=object)"
      ]
     },
     "execution_count": 98,
     "metadata": {},
     "output_type": "execute_result"
    }
   ],
   "source": [
    "result.columns.values"
   ]
  },
  {
   "cell_type": "code",
   "execution_count": 50,
   "metadata": {},
   "outputs": [],
   "source": [
    "result.columns.values\n",
    "cols=['Year', 'Player', 'Pos', 'Age', 'Tm', 'G', 'GS', 'MP', 'PER',\n",
    "       'TS%', '3PAr', 'FTr', 'ORB%', 'DRB%', 'TRB%', 'AST%', 'STL%',\n",
    "       'BLK%', 'TOV%', 'USG%', 'OWS', 'DWS', 'WS', 'WS/48', 'OBPM',\n",
    "       'DBPM', 'BPM', 'VORP', 'FG', 'FGA', 'FG%', '3P', '3PA', '3P%',\n",
    "       '2P', '2PA', '2P%', 'eFG%', 'FT', 'FTA', 'FT%', 'ORB', 'DRB',\n",
    "       'TRB', 'AST', 'STL', 'BLK', 'TOV', 'PF', 'PTS', 'Team',\n",
    "       'coach_age', 'coach_name','season_games', 'season_wins',\n",
    "       'season_loses', 'season_W/L%', 'season_position']"
   ]
  },
  {
   "cell_type": "code",
   "execution_count": 51,
   "metadata": {},
   "outputs": [],
   "source": [
    "tot=result[cols]"
   ]
  },
  {
   "cell_type": "code",
   "execution_count": 52,
   "metadata": {},
   "outputs": [],
   "source": [
    " tot['prev_year']=tot['Year']-1"
   ]
  },
  {
   "cell_type": "code",
   "execution_count": 54,
   "metadata": {},
   "outputs": [],
   "source": [
    "tot2=tot.copy()"
   ]
  },
  {
   "cell_type": "code",
   "execution_count": 74,
   "metadata": {},
   "outputs": [],
   "source": [
    "tot=tot2.copy()"
   ]
  },
  {
   "cell_type": "code",
   "execution_count": 75,
   "metadata": {},
   "outputs": [],
   "source": [
    "tot=pd.merge(tot,tot[['Year','Team','coach_name','season_W/L%','Player']], how='left', left_on=['Player','prev_year'], right_on=['Player','Year'])"
   ]
  },
  {
   "cell_type": "code",
   "execution_count": 78,
   "metadata": {},
   "outputs": [],
   "source": [
    "tot.sample(50);"
   ]
  },
  {
   "cell_type": "code",
   "execution_count": 89,
   "metadata": {},
   "outputs": [],
   "source": [
    "tot.dropna(thresh=60,inplace=True)"
   ]
  },
  {
   "cell_type": "code",
   "execution_count": 92,
   "metadata": {},
   "outputs": [],
   "source": [
    "switched_coach=tot[tot['coach_name_x']!=tot['coach_name_y']]"
   ]
  },
  {
   "cell_type": "code",
   "execution_count": 93,
   "metadata": {},
   "outputs": [],
   "source": [
    "same_coach=tot[tot['coach_name_x']==tot['coach_name_y']]"
   ]
  },
  {
   "cell_type": "code",
   "execution_count": 99,
   "metadata": {},
   "outputs": [],
   "source": [
    "switched=switched_coach[['Year_x','Team_x','season_W/L%_x','season_W/L%_y']].groupby(by=['Year_x','Team_x']).mean()"
   ]
  },
  {
   "cell_type": "code",
   "execution_count": 101,
   "metadata": {},
   "outputs": [],
   "source": [
    "switched['after/before']=switched['season_W/L%_x']/switched['season_W/L%_y']"
   ]
  },
  {
   "cell_type": "code",
   "execution_count": 102,
   "metadata": {},
   "outputs": [],
   "source": [
    "switched=switched[switched['after/before']!=np.inf]"
   ]
  },
  {
   "cell_type": "code",
   "execution_count": 106,
   "metadata": {},
   "outputs": [
    {
     "name": "stderr",
     "output_type": "stream",
     "text": [
      "/anaconda3/lib/python3.7/site-packages/ipykernel_launcher.py:1: SettingWithCopyWarning: \n",
      "A value is trying to be set on a copy of a slice from a DataFrame\n",
      "\n",
      "See the caveats in the documentation: http://pandas.pydata.org/pandas-docs/stable/indexing.html#indexing-view-versus-copy\n",
      "  \"\"\"Entry point for launching an IPython kernel.\n"
     ]
    }
   ],
   "source": [
    "switched.dropna(inplace=True)"
   ]
  },
  {
   "cell_type": "code",
   "execution_count": 141,
   "metadata": {},
   "outputs": [
    {
     "data": {
      "text/plain": [
       "Ttest_relResult(statistic=3.4843559800460095, pvalue=0.0005171758965626216)"
      ]
     },
     "execution_count": 141,
     "metadata": {},
     "output_type": "execute_result"
    }
   ],
   "source": [
    "stats.ttest_rel(switched['season_W/L%_x'],switched['season_W/L%_y'], axis=0)"
   ]
  },
  {
   "cell_type": "code",
   "execution_count": 187,
   "metadata": {},
   "outputs": [
    {
     "data": {
      "image/png": "[encoded data removed]",
      "text/plain": [
       "<Figure size 432x288 with 1 Axes>"
      ]
     },
     "metadata": {
      "needs_background": "light"
     },
     "output_type": "display_data"
    }
   ],
   "source": [
    "plt.hist(switched['season_W/L%_x']-switched['season_W/L%_y'], bins=30, color='red')\n",
    "plt.title('RW ratio - W ratio previous season')\n",
    "plt.savefig('plots/rv_dist.png')\n",
    "plt.show()"
   ]
  },
  {
   "cell_type": "code",
   "execution_count": 134,
   "metadata": {},
   "outputs": [
    {
     "data": {
      "text/plain": [
       "0.4952280311457178"
      ]
     },
     "execution_count": 134,
     "metadata": {},
     "output_type": "execute_result"
    }
   ],
   "source": [
    "switched['season_W/L%_x'].mean()"
   ]
  },
  {
   "cell_type": "code",
   "execution_count": 136,
   "metadata": {},
   "outputs": [
    {
     "data": {
      "text/plain": [
       "0.47376736996781443"
      ]
     },
     "execution_count": 136,
     "metadata": {},
     "output_type": "execute_result"
    }
   ],
   "source": [
    "switched['season_W/L%_y'].mean()"
   ]
  },
  {
   "cell_type": "code",
   "execution_count": null,
   "metadata": {},
   "outputs": [],
   "source": []
  },
  {
   "cell_type": "code",
   "execution_count": null,
   "metadata": {},
   "outputs": [],
   "source": []
  },
  {
   "cell_type": "code",
   "execution_count": null,
   "metadata": {},
   "outputs": [],
   "source": []
  },
  {
   "cell_type": "code",
   "execution_count": null,
   "metadata": {},
   "outputs": [],
   "source": []
  },
  {
   "cell_type": "markdown",
   "metadata": {},
   "source": [
    "# Place holder"
   ]
  },
  {
   "cell_type": "code",
   "execution_count": 131,
   "metadata": {},
   "outputs": [
    {
     "ename": "IndentationError",
     "evalue": "expected an indented block (<ipython-input-131-ef982df02a85>, line 46)",
     "output_type": "error",
     "traceback": [
      "\u001b[0;36m  File \u001b[0;32m\"<ipython-input-131-ef982df02a85>\"\u001b[0;36m, line \u001b[0;32m46\u001b[0m\n\u001b[0;31m    def score(self): # returns the MSE score for the model and for the benchmark model\u001b[0m\n\u001b[0m    ^\u001b[0m\n\u001b[0;31mIndentationError\u001b[0m\u001b[0;31m:\u001b[0m expected an indented block\n"
     ]
    }
   ],
   "source": [
    "class ModelP:\n",
    "    def __init__(self,year):\n",
    "        self.year=year\n",
    "        self.X_train=pd.DataFrame()\n",
    "        self.y_train=pd.DataFrame()\n",
    "        self.X_test=pd.DataFrame()\n",
    "        self.y_test=pd.DataFrame()\n",
    "        self.label_train=np.array([])\n",
    "        self.label_test=np.array([])\n",
    "        self.y_pred=np.array([])\n",
    "        self.rf_reg=RandomForestRegressor(max_depth=5, random_state=0,n_estimators=200)\n",
    "        \n",
    "    def fit(self,df): # creates clusters and sets up the data for the regression model\n",
    "        df_train=df[df['Year_x']<self.year] #check if taking only the previous year preforms better?\n",
    "        \n",
    "        mini_train=MiniBatchKMeans(n_clusters=8, batch_size=100, random_state=4)\n",
    "        X_cluster_train=df_train[['log_mean_ppg_y','ppg_y_std']]\n",
    "        \n",
    "        self.label_train=mini_train.fit_predict(X_cluster_train)\n",
    "\n",
    "        df_train['label']=self.label_train\n",
    "        df_train=pd.get_dummies(df_train,columns=['label'])\n",
    " \n",
    "        df_year=df[df['Year_x']==self.year]\n",
    "        mini=MiniBatchKMeans(n_clusters=8, batch_size=100, random_state=4)\n",
    "        X_cluster_test=df_year[['log_mean_ppg_y','ppg_y_std']]\n",
    "    \n",
    "        self.label_test=mini.fit_predict(X_cluster_test)\n",
    "        df_year['label']=self.label_test\n",
    "        df_year=pd.get_dummies(df_year,columns=['label'])\n",
    "        \n",
    "        self.X_train=df_train[['Age_x','ppg_y','mean_ppg_y','log_mean_ppg_y','var_ppg_y','ppg_y_std','MP_y','FG%_y','FGA_y','eFG%_y','FT%_y','FTA_y','3P%_y','3PA_y','PF_y','label_0','label_1','label_2','label_3','label_4','label_5','label_6','label_7']]\n",
    "        self.y_train=df_train[['ppg_x']]\n",
    "        self.X_test=df_year[['Age_x','ppg_y','mean_ppg_y','log_mean_ppg_y','var_ppg_y','ppg_y_std','MP_y','FG%_y','FGA_y','eFG%_y','FT%_y','FTA_y','3P%_y','3PA_y','PF_y','label_0','label_1','label_2','label_3','label_4','label_5','label_6','label_7']]\n",
    "        self.y_test=df_year[['ppg_x']]\n",
    "        \n",
    "    def model_predict(self,*args): # predicts the player ppg\n",
    "        \n",
    "        self.rf_reg.fit(self.X_train,self.y_train)\n",
    "        self.y_pred=self.rf_reg.predict(self.X_test)\n",
    "        if not args:\n",
    "            return (self.y_pred)\n",
    "        else:\n",
    "            for arg in args:\n",
    "    \n",
    "    def score(self): # returns the MSE score for the model and for the benchmark model\n",
    "        mse=mean_squared_error(self.y_test,self.y_pred)\n",
    "        print('The MSE is : {}'.format(mse))\n",
    "        \n",
    "        benchmark_error=mean_squared_error(self.y_test,self.X_test['ppg_y'])\n",
    "        print('The benchmark MSE is : {}'.format(benchmark_error))\n",
    "        return (mse)\n",
    "        \n",
    "    def plots(self,plot_type='residuals'): # plots --> plot_type= 'residuals' or 'hist'\n",
    "        \n",
    "        hand={}\n",
    "        self.y_pred.reshape(-1,1)\n",
    "        temp=pd.DataFrame(index=self.y_test.index, columns=['y_test','y_pred','cluster'])\n",
    "        temp['y_test']=self.y_test\n",
    "        temp['y_pred']=self.y_pred\n",
    "        temp['cluster']=self.label_test\n",
    "        cmap={0:'red',1:'orange', 2:'green', 3:'blue', 4:'magenta',5:'cyan',6:'black',7:'forestgreen'}\n",
    "        if plot_type=='residuals':\n",
    "            for element in temp['cluster'].unique():\n",
    "                class_temp=temp[temp['cluster']==element]\n",
    "                hand[element]=plt.scatter(class_temp['y_test'].values,class_temp['y_test'].values-class_temp['y_pred'].values,alpha=0.6, color=cmap[element],marker='.' ,label='clusters {}'.format(element))\n",
    "            plt.title('y_test vs residuals')\n",
    "            plt.xlabel('y_test')\n",
    "            plt.ylabel('residuals')\n",
    "            plt.legend((hand[0],hand[1],hand[2],hand[3],hand[4],hand[5],hand[6],hand[7]), ('cluster 1','cluster 2','cluster 3','cluster 4','cluster 5','cluster 6','cluster 7'))\n",
    "            plt.show()\n",
    "        elif plot_type=='hist':\n",
    "            fig,axis = plt.subplots(2,4, figsize=(15,10))\n",
    "            axis=axis.ravel()\n",
    "            for element in temp['cluster'].unique():\n",
    "                class_temp=temp[temp['cluster']==element]\n",
    "                axis[element].hist(class_temp['y_test'].values-class_temp['y_pred'].values, bins=10, color='orange')\n",
    "                axis[element].set_title('cluster {} residuals'.format(element))\n",
    "                axis[element].set_xlabel('residuals')\n",
    "                axis[element].set_ylabel('count')\n",
    "            plt.tight_layout()\n",
    "            plt.show()\n",
    "\n",
    "    def clusters(self): # get the clusters with the residuals and player names\n",
    "        cluster={}\n",
    "        clus_resids={}\n",
    "        c_temp=pd.DataFrame(index=self.y_test.index, columns=['y_test','y_pred','cluster'])\n",
    "        c_temp['y_test']=self.y_test\n",
    "        c_temp['y_pred']=self.y_pred\n",
    "        c_temp['resids']=c_temp['y_test']-c_temp['y_pred']\n",
    "        c_temp['cluster']=self.label_test\n",
    "        for clus in c_temp['cluster'].unique():\n",
    "            cluster[clus]=c_temp[c_temp['cluster']==clus]\n",
    "            clus_resids[clus]=(cluster[clus]['resids'].mean(),cluster[clus]['resids'].std())\n",
    "        return cluster, clus_resids\n",
    "        \n",
    "    def importance(self): # permutation feature importance using rfpimp library\n",
    "        imp =importances(self.rf_reg, self.X_test, self.y_test) \n",
    "        viz = plot_importances(imp,width=6, vscale=2)\n",
    "        viz.view()\n",
    "        print(imp)"
   ]
  },
  {
   "cell_type": "markdown",
   "metadata": {},
   "source": [
    "The MSE is : 9.602701133445807\n",
    "The benchmark MSE is : 10.53196412029064\n",
    "The MSE is : 8.726737962515688\n",
    "The benchmark MSE is : 9.13363981371178\n",
    "The MSE is : 8.383274339098229\n",
    "The benchmark MSE is : 9.26076507629748\n",
    "The MSE is : 8.438594631086993\n",
    "The benchmark MSE is : 10.373275438983228\n",
    "The MSE is : 7.4674771986233734\n",
    "The benchmark MSE is : 8.972459993683001"
   ]
  },
  {
   "cell_type": "code",
   "execution_count": 142,
   "metadata": {},
   "outputs": [],
   "source": [
    "from scipy.stats import norm"
   ]
  },
  {
   "cell_type": "code",
   "execution_count": 158,
   "metadata": {},
   "outputs": [],
   "source": [
    "cur=norm.pdf(switched['season_W/L%_x'],switched['season_W/L%_x'].mean(),switched['season_W/L%_x'].std())"
   ]
  },
  {
   "cell_type": "code",
   "execution_count": 145,
   "metadata": {},
   "outputs": [],
   "source": [
    "prev=norm.pdf(switched['season_W/L%_y'])"
   ]
  },
  {
   "cell_type": "code",
   "execution_count": 168,
   "metadata": {},
   "outputs": [],
   "source": [
    "x=np.linspace(switched['season_W/L%_x'].min(),switched['season_W/L%_x'].max(),899)"
   ]
  },
  {
   "cell_type": "code",
   "execution_count": 171,
   "metadata": {},
   "outputs": [
    {
     "data": {
      "text/plain": [
       "<matplotlib.collections.PathCollection at 0x1a273ddf60>"
      ]
     },
     "execution_count": 171,
     "metadata": {},
     "output_type": "execute_result"
    },
    {
     "data": {
      "image/png": "[encoded data removed]",
      "text/plain": [
       "<Figure size 432x288 with 1 Axes>"
      ]
     },
     "metadata": {
      "needs_background": "light"
     },
     "output_type": "display_data"
    }
   ],
   "source": [
    "plt.scatter(switched['season_W/L%_x'],cur)"
   ]
  },
  {
   "cell_type": "code",
   "execution_count": 186,
   "metadata": {},
   "outputs": [
    {
     "data": {
      "image/png": "[encoded data removed]",
      "text/plain": [
       "<Figure size 432x288 with 1 Axes>"
      ]
     },
     "metadata": {
      "needs_background": "light"
     },
     "output_type": "display_data"
    }
   ],
   "source": [
    "x=np.linspace(np.min(switched['season_W/L%_x']), np.max(switched['season_W/L%_x']), 5000)\n",
    "mu = switched['season_W/L%_x'].mean()\n",
    "mu2=switched['season_W/L%_y'].mean()\n",
    "stdev = switched['season_W/L%_x'].std()\n",
    "stdev2=switched['season_W/L%_y'].std()\n",
    "ndist2=norm.pdf(x,mu2,stdev2)\n",
    "ndist=norm.pdf(x, mu, stdev)\n",
    "plt.plot(x, ndist, c='orange', label='after coach change')\n",
    "plt.plot(x,ndist2,  label= 'before coach change')\n",
    "plt.xlabel('probability')\n",
    "plt.ylabel('Probability Density')\n",
    "plt.legend()\n",
    "plt.legend()\n",
    "plt.savefig('plots/Hypo_dist')\n",
    "plt.show()"
   ]
  },
  {
   "cell_type": "code",
   "execution_count": 163,
   "metadata": {},
   "outputs": [
    {
     "data": {
      "text/plain": [
       "(array([  6.,  25.,  90., 132., 151., 237., 175.,  69.,  12.,   2.]),\n",
       " array([0. , 0.1, 0.2, 0.3, 0.4, 0.5, 0.6, 0.7, 0.8, 0.9, 1. ]),\n",
       " <a list of 10 Patch objects>)"
      ]
     },
     "execution_count": 163,
     "metadata": {},
     "output_type": "execute_result"
    },
    {
     "data": {
      "image/png": "[encoded data removed]",
      "text/plain": [
       "<Figure size 432x288 with 1 Axes>"
      ]
     },
     "metadata": {
      "needs_background": "light"
     },
     "output_type": "display_data"
    }
   ],
   "source": [
    "plt.hist(switched['season_W/L%_x'])"
   ]
  },
  {
   "cell_type": "code",
   "execution_count": 155,
   "metadata": {},
   "outputs": [
    {
     "data": {
      "text/plain": [
       "(array([ 1.,  0.,  0.,  0.,  0.,  0.,  0.,  0.,  0.,  0.,  0.,  0.,  0.,\n",
       "         0.,  1.,  0.,  0.,  0.,  0.,  0.,  0.,  0.,  0.,  0.,  0.,  0.,\n",
       "         0.,  0.,  0.,  0.,  0.,  1.,  0.,  1.,  0.,  1.,  0.,  0.,  2.,\n",
       "         1.,  2.,  1.,  4.,  2.,  1.,  2.,  3.,  8.,  4.,  1.,  5.,  7.,\n",
       "        12., 16.,  8.,  9.,  9., 19., 13., 15., 17., 17., 13., 23., 22.,\n",
       "        12., 30., 27., 28., 38., 25., 18., 27., 34., 29., 33., 34., 24.,\n",
       "        26., 29., 16., 30., 18., 23., 23., 20., 23., 12., 13., 14., 16.,\n",
       "         5.,  6.,  7.,  3.,  4.,  6.,  2.,  2.,  1.]),\n",
       " array([0.24197072, 0.24353534, 0.24509996, 0.24666458, 0.24822919,\n",
       "        0.24979381, 0.25135843, 0.25292305, 0.25448766, 0.25605228,\n",
       "        0.2576169 , 0.25918152, 0.26074613, 0.26231075, 0.26387537,\n",
       "        0.26543999, 0.2670046 , 0.26856922, 0.27013384, 0.27169846,\n",
       "        0.27326307, 0.27482769, 0.27639231, 0.27795692, 0.27952154,\n",
       "        0.28108616, 0.28265078, 0.28421539, 0.28578001, 0.28734463,\n",
       "        0.28890925, 0.29047386, 0.29203848, 0.2936031 , 0.29516772,\n",
       "        0.29673233, 0.29829695, 0.29986157, 0.30142619, 0.3029908 ,\n",
       "        0.30455542, 0.30612004, 0.30768466, 0.30924927, 0.31081389,\n",
       "        0.31237851, 0.31394313, 0.31550774, 0.31707236, 0.31863698,\n",
       "        0.32020159, 0.32176621, 0.32333083, 0.32489545, 0.32646006,\n",
       "        0.32802468, 0.3295893 , 0.33115392, 0.33271853, 0.33428315,\n",
       "        0.33584777, 0.33741239, 0.338977  , 0.34054162, 0.34210624,\n",
       "        0.34367086, 0.34523547, 0.34680009, 0.34836471, 0.34992933,\n",
       "        0.35149394, 0.35305856, 0.35462318, 0.3561878 , 0.35775241,\n",
       "        0.35931703, 0.36088165, 0.36244626, 0.36401088, 0.3655755 ,\n",
       "        0.36714012, 0.36870473, 0.37026935, 0.37183397, 0.37339859,\n",
       "        0.3749632 , 0.37652782, 0.37809244, 0.37965706, 0.38122167,\n",
       "        0.38278629, 0.38435091, 0.38591553, 0.38748014, 0.38904476,\n",
       "        0.39060938, 0.392174  , 0.39373861, 0.39530323, 0.39686785,\n",
       "        0.39843247]),\n",
       " <a list of 100 Patch objects>)"
      ]
     },
     "execution_count": 155,
     "metadata": {},
     "output_type": "execute_result"
    },
    {
     "data": {
      "image/png": "[encoded data removed]",
      "text/plain": [
       "<Figure size 432x288 with 1 Axes>"
      ]
     },
     "metadata": {
      "needs_background": "light"
     },
     "output_type": "display_data"
    }
   ],
   "source": [
    "plt.hist(cur, bins=100)\n",
    "plt.hist(prev, bins=100)"
   ]
  },
  {
   "cell_type": "code",
   "execution_count": 152,
   "metadata": {},
   "outputs": [],
   "source": [
    "x=np.linspace(0,1,899)"
   ]
  },
  {
   "cell_type": "code",
   "execution_count": null,
   "metadata": {},
   "outputs": [],
   "source": []
  },
  {
   "cell_type": "code",
   "execution_count": null,
   "metadata": {},
   "outputs": [],
   "source": []
  }
 ],
 "metadata": {
  "kernelspec": {
   "display_name": "Python 3",
   "language": "python",
   "name": "python3"
  },
  "language_info": {
   "codemirror_mode": {
    "name": "ipython",
    "version": 3
   },
   "file_extension": ".py",
   "mimetype": "text/x-python",
   "name": "python",
   "nbconvert_exporter": "python",
   "pygments_lexer": "ipython3",
   "version": "3.7.2"
  }
 },
 "nbformat": 4,
 "nbformat_minor": 2
}
