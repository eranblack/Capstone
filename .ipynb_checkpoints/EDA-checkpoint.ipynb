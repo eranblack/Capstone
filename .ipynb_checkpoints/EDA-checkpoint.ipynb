{
 "cells": [
  {
   "cell_type": "code",
   "execution_count": 1,
   "metadata": {},
   "outputs": [],
   "source": [
    "import pandas as pd\n",
    "import numpy as np\n",
    "import matplotlib.pyplot as plt\n",
    "import requests\n",
    "from bs4 import BeautifulSoup \n",
    "%matplotlib inline"
   ]
  },
  {
   "cell_type": "code",
   "execution_count": 2,
   "metadata": {},
   "outputs": [],
   "source": [
    "df_full=pd.read_csv('data/Seasons_Stats.csv')"
   ]
  },
  {
   "cell_type": "code",
   "execution_count": 3,
   "metadata": {},
   "outputs": [],
   "source": [
    "df_full.drop(columns='Unnamed: 0', inplace=True)"
   ]
  },
  {
   "cell_type": "code",
   "execution_count": 4,
   "metadata": {},
   "outputs": [],
   "source": [
    "# Year - Season\n",
    "# Player - name\n",
    "# Pos - Position\n",
    "# Age - Age\n",
    "# Tm - Team\n",
    "# G - Games\n",
    "# GS - Games Started\n",
    "# MP - Minutes Played\n",
    "# PER - Player Efficiency Rating\n",
    "# TS% - True Shooting %\n",
    "# 3PAr - 3-Point Attempt Rate\n",
    "# FTr - Free Throw Rate\n",
    "# ORB% - Offensive Rebound Percentage\n",
    "# DRB% - Defensive Rebound Percentage\n",
    "# TRB% - Total Rebound Percentage\n",
    "# AST% - Assist Percentage\n",
    "# STL% - Steal Percentage\n",
    "# BLK% - Block Percentage\n",
    "# TOV% - Turnover Percentage\n",
    "# USG% - Usage Percentage\n",
    "# blanlempty\n",
    "# OWS - Offensive Win Shares\n",
    "# DWS - Defensive Win Shares\n",
    "# WS - Win Shares\n",
    "# WS/48Win Shares Per 48 Minutes\n",
    "# blank2\n",
    "# OBPM - Offensive Box Plus/Minus\n",
    "# DBPM - Defensive Box Plus/Minus\n",
    "# BPM - Box Plus/Minus\n",
    "# VORPValue Over Replacement\n",
    "# FG - Field Goals\n",
    "# FGA - Field Goal Attempts\n",
    "# FG% - Field Goal Percentage\n",
    "# 3P - 3-Point Field Goals\n",
    "# 3PA - 3-Point Field Goal Attempts\n",
    "# 3P% - 3-Point Field Goal Percentage\n",
    "# 2P - 2-Point Field Goals\n",
    "# 2PA - 2-Point Field Goal Attempts\n",
    "# 2P% - 2-Point Field Goal Percentage\n",
    "# eFG% - Effective Field Goal Percentage\n",
    "# FT - Free Throws\n",
    "# FTA - Free Throw Attempts\n",
    "# FT% - Free Throw Percentage\n",
    "# ORB - Offensive Rebounds\n",
    "# DRB - Defensive Rebounds\n",
    "# TRB - Total Rebounds\n",
    "# AST - Assists\n",
    "# STL - Steals\n",
    "# BLK - Blocks\n",
    "# TOV - Turnovers\n",
    "# PF - Personal Fouls\n",
    "# PTS - Points\n",
    "\n",
    "# https://www.basketball-reference.com/about/glossary.html for additional data"
   ]
  },
  {
   "cell_type": "markdown",
   "metadata": {},
   "source": [
    "# use the past 12 years --> 2005 - 2017\n"
   ]
  },
  {
   "cell_type": "code",
   "execution_count": 5,
   "metadata": {},
   "outputs": [
    {
     "data": {
      "text/html": [
       "<div>\n",
       "<style scoped>\n",
       "    .dataframe tbody tr th:only-of-type {\n",
       "        vertical-align: middle;\n",
       "    }\n",
       "\n",
       "    .dataframe tbody tr th {\n",
       "        vertical-align: top;\n",
       "    }\n",
       "\n",
       "    .dataframe thead th {\n",
       "        text-align: right;\n",
       "    }\n",
       "</style>\n",
       "<table border=\"1\" class=\"dataframe\">\n",
       "  <thead>\n",
       "    <tr style=\"text-align: right;\">\n",
       "      <th></th>\n",
       "      <th>Year</th>\n",
       "      <th>Player</th>\n",
       "      <th>Pos</th>\n",
       "      <th>Age</th>\n",
       "      <th>Tm</th>\n",
       "      <th>G</th>\n",
       "      <th>GS</th>\n",
       "      <th>MP</th>\n",
       "      <th>PER</th>\n",
       "      <th>TS%</th>\n",
       "      <th>...</th>\n",
       "      <th>FT%</th>\n",
       "      <th>ORB</th>\n",
       "      <th>DRB</th>\n",
       "      <th>TRB</th>\n",
       "      <th>AST</th>\n",
       "      <th>STL</th>\n",
       "      <th>BLK</th>\n",
       "      <th>TOV</th>\n",
       "      <th>PF</th>\n",
       "      <th>PTS</th>\n",
       "    </tr>\n",
       "  </thead>\n",
       "  <tbody>\n",
       "    <tr>\n",
       "      <th>0</th>\n",
       "      <td>1950.0</td>\n",
       "      <td>Curly Armstrong</td>\n",
       "      <td>G-F</td>\n",
       "      <td>31.0</td>\n",
       "      <td>FTW</td>\n",
       "      <td>63.0</td>\n",
       "      <td>NaN</td>\n",
       "      <td>NaN</td>\n",
       "      <td>NaN</td>\n",
       "      <td>0.368</td>\n",
       "      <td>...</td>\n",
       "      <td>0.705</td>\n",
       "      <td>NaN</td>\n",
       "      <td>NaN</td>\n",
       "      <td>NaN</td>\n",
       "      <td>176.0</td>\n",
       "      <td>NaN</td>\n",
       "      <td>NaN</td>\n",
       "      <td>NaN</td>\n",
       "      <td>217.0</td>\n",
       "      <td>458.0</td>\n",
       "    </tr>\n",
       "    <tr>\n",
       "      <th>1</th>\n",
       "      <td>1950.0</td>\n",
       "      <td>Cliff Barker</td>\n",
       "      <td>SG</td>\n",
       "      <td>29.0</td>\n",
       "      <td>INO</td>\n",
       "      <td>49.0</td>\n",
       "      <td>NaN</td>\n",
       "      <td>NaN</td>\n",
       "      <td>NaN</td>\n",
       "      <td>0.435</td>\n",
       "      <td>...</td>\n",
       "      <td>0.708</td>\n",
       "      <td>NaN</td>\n",
       "      <td>NaN</td>\n",
       "      <td>NaN</td>\n",
       "      <td>109.0</td>\n",
       "      <td>NaN</td>\n",
       "      <td>NaN</td>\n",
       "      <td>NaN</td>\n",
       "      <td>99.0</td>\n",
       "      <td>279.0</td>\n",
       "    </tr>\n",
       "    <tr>\n",
       "      <th>2</th>\n",
       "      <td>1950.0</td>\n",
       "      <td>Leo Barnhorst</td>\n",
       "      <td>SF</td>\n",
       "      <td>25.0</td>\n",
       "      <td>CHS</td>\n",
       "      <td>67.0</td>\n",
       "      <td>NaN</td>\n",
       "      <td>NaN</td>\n",
       "      <td>NaN</td>\n",
       "      <td>0.394</td>\n",
       "      <td>...</td>\n",
       "      <td>0.698</td>\n",
       "      <td>NaN</td>\n",
       "      <td>NaN</td>\n",
       "      <td>NaN</td>\n",
       "      <td>140.0</td>\n",
       "      <td>NaN</td>\n",
       "      <td>NaN</td>\n",
       "      <td>NaN</td>\n",
       "      <td>192.0</td>\n",
       "      <td>438.0</td>\n",
       "    </tr>\n",
       "    <tr>\n",
       "      <th>3</th>\n",
       "      <td>1950.0</td>\n",
       "      <td>Ed Bartels</td>\n",
       "      <td>F</td>\n",
       "      <td>24.0</td>\n",
       "      <td>TOT</td>\n",
       "      <td>15.0</td>\n",
       "      <td>NaN</td>\n",
       "      <td>NaN</td>\n",
       "      <td>NaN</td>\n",
       "      <td>0.312</td>\n",
       "      <td>...</td>\n",
       "      <td>0.559</td>\n",
       "      <td>NaN</td>\n",
       "      <td>NaN</td>\n",
       "      <td>NaN</td>\n",
       "      <td>20.0</td>\n",
       "      <td>NaN</td>\n",
       "      <td>NaN</td>\n",
       "      <td>NaN</td>\n",
       "      <td>29.0</td>\n",
       "      <td>63.0</td>\n",
       "    </tr>\n",
       "    <tr>\n",
       "      <th>4</th>\n",
       "      <td>1950.0</td>\n",
       "      <td>Ed Bartels</td>\n",
       "      <td>F</td>\n",
       "      <td>24.0</td>\n",
       "      <td>DNN</td>\n",
       "      <td>13.0</td>\n",
       "      <td>NaN</td>\n",
       "      <td>NaN</td>\n",
       "      <td>NaN</td>\n",
       "      <td>0.308</td>\n",
       "      <td>...</td>\n",
       "      <td>0.548</td>\n",
       "      <td>NaN</td>\n",
       "      <td>NaN</td>\n",
       "      <td>NaN</td>\n",
       "      <td>20.0</td>\n",
       "      <td>NaN</td>\n",
       "      <td>NaN</td>\n",
       "      <td>NaN</td>\n",
       "      <td>27.0</td>\n",
       "      <td>59.0</td>\n",
       "    </tr>\n",
       "  </tbody>\n",
       "</table>\n",
       "<p>5 rows × 52 columns</p>\n",
       "</div>"
      ],
      "text/plain": [
       "     Year           Player  Pos   Age   Tm     G  GS  MP  PER    TS%  ...    \\\n",
       "0  1950.0  Curly Armstrong  G-F  31.0  FTW  63.0 NaN NaN  NaN  0.368  ...     \n",
       "1  1950.0     Cliff Barker   SG  29.0  INO  49.0 NaN NaN  NaN  0.435  ...     \n",
       "2  1950.0    Leo Barnhorst   SF  25.0  CHS  67.0 NaN NaN  NaN  0.394  ...     \n",
       "3  1950.0       Ed Bartels    F  24.0  TOT  15.0 NaN NaN  NaN  0.312  ...     \n",
       "4  1950.0       Ed Bartels    F  24.0  DNN  13.0 NaN NaN  NaN  0.308  ...     \n",
       "\n",
       "     FT%  ORB  DRB  TRB    AST  STL  BLK  TOV     PF    PTS  \n",
       "0  0.705  NaN  NaN  NaN  176.0  NaN  NaN  NaN  217.0  458.0  \n",
       "1  0.708  NaN  NaN  NaN  109.0  NaN  NaN  NaN   99.0  279.0  \n",
       "2  0.698  NaN  NaN  NaN  140.0  NaN  NaN  NaN  192.0  438.0  \n",
       "3  0.559  NaN  NaN  NaN   20.0  NaN  NaN  NaN   29.0   63.0  \n",
       "4  0.548  NaN  NaN  NaN   20.0  NaN  NaN  NaN   27.0   59.0  \n",
       "\n",
       "[5 rows x 52 columns]"
      ]
     },
     "execution_count": 5,
     "metadata": {},
     "output_type": "execute_result"
    }
   ],
   "source": [
    "df_full.head()"
   ]
  },
  {
   "cell_type": "code",
   "execution_count": 6,
   "metadata": {},
   "outputs": [],
   "source": [
    "df=df_full[df_full['Year']>=2005]"
   ]
  },
  {
   "cell_type": "code",
   "execution_count": 7,
   "metadata": {},
   "outputs": [
    {
     "data": {
      "text/plain": [
       "(7603, 52)"
      ]
     },
     "execution_count": 7,
     "metadata": {},
     "output_type": "execute_result"
    }
   ],
   "source": [
    "df.shape"
   ]
  },
  {
   "cell_type": "code",
   "execution_count": 8,
   "metadata": {},
   "outputs": [
    {
     "data": {
      "text/plain": [
       "(24691, 52)"
      ]
     },
     "execution_count": 8,
     "metadata": {},
     "output_type": "execute_result"
    }
   ],
   "source": [
    "df_full.shape"
   ]
  },
  {
   "cell_type": "code",
   "execution_count": 9,
   "metadata": {},
   "outputs": [],
   "source": [
    "# df_coach=pd.read_csv('data/NBA_head_coaches.csv.xls')"
   ]
  },
  {
   "cell_type": "code",
   "execution_count": 10,
   "metadata": {},
   "outputs": [],
   "source": [
    "# df_coach.info()"
   ]
  },
  {
   "cell_type": "code",
   "execution_count": 11,
   "metadata": {},
   "outputs": [],
   "source": [
    "# splitting the teams into a list of years"
   ]
  },
  {
   "cell_type": "code",
   "execution_count": 12,
   "metadata": {},
   "outputs": [],
   "source": [
    "# df_coach['Teams']=df_coach['Teams'].str.split(',')"
   ]
  },
  {
   "cell_type": "code",
   "execution_count": 13,
   "metadata": {},
   "outputs": [],
   "source": [
    "# df.head()"
   ]
  },
  {
   "cell_type": "code",
   "execution_count": 14,
   "metadata": {},
   "outputs": [],
   "source": [
    "# df_coach[df_coach['Name']=='Rick Adelman']"
   ]
  },
  {
   "cell_type": "code",
   "execution_count": 15,
   "metadata": {},
   "outputs": [
    {
     "name": "stderr",
     "output_type": "stream",
     "text": [
      "/anaconda3/lib/python3.7/site-packages/ipykernel_launcher.py:1: SettingWithCopyWarning: \n",
      "A value is trying to be set on a copy of a slice from a DataFrame.\n",
      "Try using .loc[row_indexer,col_indexer] = value instead\n",
      "\n",
      "See the caveats in the documentation: http://pandas.pydata.org/pandas-docs/stable/indexing.html#indexing-view-versus-copy\n",
      "  \"\"\"Entry point for launching an IPython kernel.\n"
     ]
    }
   ],
   "source": [
    "df['Year']=df['Year'].astype(int)"
   ]
  },
  {
   "cell_type": "code",
   "execution_count": null,
   "metadata": {},
   "outputs": [],
   "source": []
  },
  {
   "cell_type": "code",
   "execution_count": 16,
   "metadata": {},
   "outputs": [],
   "source": [
    "#Scarping for coaches"
   ]
  },
  {
   "cell_type": "code",
   "execution_count": 17,
   "metadata": {},
   "outputs": [],
   "source": [
    " req = requests.get('https://www.basketball-reference.com/coaches/NBA_stats.html')"
   ]
  },
  {
   "cell_type": "code",
   "execution_count": 18,
   "metadata": {},
   "outputs": [],
   "source": [
    "content=req.content"
   ]
  },
  {
   "cell_type": "code",
   "execution_count": 19,
   "metadata": {},
   "outputs": [],
   "source": [
    "soup=BeautifulSoup(content) "
   ]
  },
  {
   "cell_type": "code",
   "execution_count": 20,
   "metadata": {},
   "outputs": [],
   "source": [
    "table=soup.find('table');"
   ]
  },
  {
   "cell_type": "code",
   "execution_count": 28,
   "metadata": {},
   "outputs": [
    {
     "data": {
      "text/plain": [
       "'Richie Adubato'"
      ]
     },
     "execution_count": 28,
     "metadata": {},
     "output_type": "execute_result"
    }
   ],
   "source": [
    "table.find_all('a')[1].text"
   ]
  },
  {
   "cell_type": "code",
   "execution_count": 22,
   "metadata": {},
   "outputs": [],
   "source": [
    "coach_name=[]\n",
    "for element in table.find_all('a'):\n",
    "    coach_name.append(element.text)\n",
    "    "
   ]
  },
  {
   "cell_type": "code",
   "execution_count": null,
   "metadata": {},
   "outputs": [],
   "source": []
  },
  {
   "cell_type": "code",
   "execution_count": 24,
   "metadata": {},
   "outputs": [
    {
     "data": {
      "text/plain": [
       "'/coaches/adelmri01c.html'"
      ]
     },
     "execution_count": 24,
     "metadata": {},
     "output_type": "execute_result"
    }
   ],
   "source": [
    "table.find('a').attrs['href']"
   ]
  },
  {
   "cell_type": "code",
   "execution_count": 25,
   "metadata": {},
   "outputs": [
    {
     "data": {
      "text/plain": [
       "'/coaches/adelmri01c.html'"
      ]
     },
     "execution_count": 25,
     "metadata": {},
     "output_type": "execute_result"
    }
   ],
   "source": [
    "table.find_all('a')[0].attrs['href']"
   ]
  },
  {
   "cell_type": "code",
   "execution_count": 32,
   "metadata": {},
   "outputs": [
    {
     "data": {
      "text/plain": [
       "329"
      ]
     },
     "execution_count": 32,
     "metadata": {},
     "output_type": "execute_result"
    }
   ],
   "source": [
    "len(table.find_all('a'))"
   ]
  },
  {
   "cell_type": "code",
   "execution_count": 26,
   "metadata": {},
   "outputs": [],
   "source": [
    "#scarping all of the coach tables"
   ]
  },
  {
   "cell_type": "code",
   "execution_count": 34,
   "metadata": {},
   "outputs": [],
   "source": [
    "coach_list=[]\n",
    "for element in table.find_all('a'):\n",
    "    loc='https://www.basketball-reference.com/' + element.attrs['href']\n",
    "    raw_coach_tables=requests.get(loc)\n",
    "    raw_coach_table_content=raw_coach_tables.content\n",
    "    soup2=BeautifulSoup(raw_coach_table_content) \n",
    "    coach_table_content=soup2.find('table')\n",
    "    coach_list.append(pd.read_html(str(coach_table_content)))\n",
    "   "
   ]
  },
  {
   "cell_type": "code",
   "execution_count": null,
   "metadata": {},
   "outputs": [],
   "source": []
  },
  {
   "cell_type": "code",
   "execution_count": 269,
   "metadata": {},
   "outputs": [],
   "source": [
    "sorted(coach_name);"
   ]
  },
  {
   "cell_type": "code",
   "execution_count": 28,
   "metadata": {},
   "outputs": [],
   "source": [
    "#cleaning and merging coach table:"
   ]
  },
  {
   "cell_type": "code",
   "execution_count": 37,
   "metadata": {},
   "outputs": [],
   "source": [
    "\n",
    "for idx,element in enumerate(coach_list):\n",
    "#     element[0]=element[0][element[0]['Unnamed: 4_level_0']['G'].astype(str)!='Assistant Coach']\n",
    "    element[0]['coach_name']=coach_name[idx]\n",
    "    if idx==0:\n",
    "        all_coach=element[0]\n",
    "    else:\n",
    "        all_coach=all_coach.append(element[0])"
   ]
  },
  {
   "cell_type": "code",
   "execution_count": null,
   "metadata": {},
   "outputs": [],
   "source": []
  },
  {
   "cell_type": "code",
   "execution_count": null,
   "metadata": {},
   "outputs": [],
   "source": [
    "# coach_columns={Team: 'Playoffs', 'Tm', Coach_Age: 'Regular Season','Age' , Season: 'Unnamed: 0_level_0','Season', ---,\n",
    "#                Playoff_games'Unnamed: 11_level_0', 'G' ,---, playoff_wins: 'Unnamed: 12_level_0', 'W', ---,playoff_loses: 'Unnamed: 13_level_0', 'L'\n",
    "#               ,---, playoff_W/L%: 'Unnamed: 14_level_0', 'W/L%', --- ,season_games:'Unnamed: 4_level_0', 'G', ---, season_wins: 'Unnamed: 5_level_0', 'W',\n",
    "#               ---,season_loses: 'Unnamed: 6_level_0', 'L', ---, season_W/L% : 'Unnamed: 7_level_0', 'W/L%', --- ,'Unnamed: 8_level_0', 'W > .500',\n",
    "#               ---, 'Unnamed: 9_level_0', 'Finish'}"
   ]
  },
  {
   "cell_type": "code",
   "execution_count": 44,
   "metadata": {},
   "outputs": [
    {
     "data": {
      "text/plain": [
       "226"
      ]
     },
     "execution_count": 44,
     "metadata": {},
     "output_type": "execute_result"
    }
   ],
   "source": [
    "len(all_coach.columns)"
   ]
  },
  {
   "cell_type": "code",
   "execution_count": null,
   "metadata": {},
   "outputs": [],
   "source": []
  },
  {
   "cell_type": "code",
   "execution_count": 105,
   "metadata": {},
   "outputs": [],
   "source": [
    "# for element in range(226):\n",
    "#     print(all_coach.columns[element])\n",
    "#     print(all_coach[all_coach.columns[element][0]].head())"
   ]
  },
  {
   "cell_type": "code",
   "execution_count": 45,
   "metadata": {},
   "outputs": [
    {
     "data": {
      "text/html": [
       "<div>\n",
       "<style scoped>\n",
       "    .dataframe tbody tr th:only-of-type {\n",
       "        vertical-align: middle;\n",
       "    }\n",
       "\n",
       "    .dataframe tbody tr th {\n",
       "        vertical-align: top;\n",
       "    }\n",
       "\n",
       "    .dataframe thead tr th {\n",
       "        text-align: left;\n",
       "    }\n",
       "</style>\n",
       "<table border=\"1\" class=\"dataframe\">\n",
       "  <thead>\n",
       "    <tr>\n",
       "      <th></th>\n",
       "      <th>Playoffs</th>\n",
       "      <th>Regular Season</th>\n",
       "      <th>Unnamed: 0_level_0</th>\n",
       "      <th>Unnamed: 100_level_0</th>\n",
       "      <th>Unnamed: 101_level_0</th>\n",
       "      <th>Unnamed: 102_level_0</th>\n",
       "      <th>Unnamed: 103_level_0</th>\n",
       "      <th>Unnamed: 104_level_0</th>\n",
       "      <th>Unnamed: 105_level_0</th>\n",
       "      <th>Unnamed: 106_level_0</th>\n",
       "      <th>...</th>\n",
       "      <th>Unnamed: 92_level_0</th>\n",
       "      <th>Unnamed: 93_level_0</th>\n",
       "      <th>Unnamed: 94_level_0</th>\n",
       "      <th>Unnamed: 95_level_0</th>\n",
       "      <th>Unnamed: 96_level_0</th>\n",
       "      <th>Unnamed: 97_level_0</th>\n",
       "      <th>Unnamed: 98_level_0</th>\n",
       "      <th>Unnamed: 99_level_0</th>\n",
       "      <th>Unnamed: 9_level_0</th>\n",
       "      <th>coach_name</th>\n",
       "    </tr>\n",
       "    <tr>\n",
       "      <th></th>\n",
       "      <th>Tm</th>\n",
       "      <th>Age</th>\n",
       "      <th>Season</th>\n",
       "      <th>Unnamed: 100_level_1</th>\n",
       "      <th>Unnamed: 101_level_1</th>\n",
       "      <th>Unnamed: 102_level_1</th>\n",
       "      <th>Unnamed: 103_level_1</th>\n",
       "      <th>Unnamed: 104_level_1</th>\n",
       "      <th>Unnamed: 105_level_1</th>\n",
       "      <th>Unnamed: 106_level_1</th>\n",
       "      <th>...</th>\n",
       "      <th>Unnamed: 92_level_1</th>\n",
       "      <th>Unnamed: 93_level_1</th>\n",
       "      <th>Unnamed: 94_level_1</th>\n",
       "      <th>Unnamed: 95_level_1</th>\n",
       "      <th>Unnamed: 96_level_1</th>\n",
       "      <th>Unnamed: 97_level_1</th>\n",
       "      <th>Unnamed: 98_level_1</th>\n",
       "      <th>Unnamed: 99_level_1</th>\n",
       "      <th>Finish</th>\n",
       "      <th></th>\n",
       "    </tr>\n",
       "  </thead>\n",
       "  <tbody>\n",
       "    <tr>\n",
       "      <th>0</th>\n",
       "      <td>POR</td>\n",
       "      <td>37.0</td>\n",
       "      <td>1983-84</td>\n",
       "      <td>NaN</td>\n",
       "      <td>NaN</td>\n",
       "      <td>NaN</td>\n",
       "      <td>NaN</td>\n",
       "      <td>NaN</td>\n",
       "      <td>NaN</td>\n",
       "      <td>NaN</td>\n",
       "      <td>...</td>\n",
       "      <td>NaN</td>\n",
       "      <td>NaN</td>\n",
       "      <td>NaN</td>\n",
       "      <td>NaN</td>\n",
       "      <td>NaN</td>\n",
       "      <td>NaN</td>\n",
       "      <td>NaN</td>\n",
       "      <td>NaN</td>\n",
       "      <td>NaN</td>\n",
       "      <td>Rick Adelman</td>\n",
       "    </tr>\n",
       "    <tr>\n",
       "      <th>1</th>\n",
       "      <td>POR</td>\n",
       "      <td>38.0</td>\n",
       "      <td>1984-85</td>\n",
       "      <td>NaN</td>\n",
       "      <td>NaN</td>\n",
       "      <td>NaN</td>\n",
       "      <td>NaN</td>\n",
       "      <td>NaN</td>\n",
       "      <td>NaN</td>\n",
       "      <td>NaN</td>\n",
       "      <td>...</td>\n",
       "      <td>NaN</td>\n",
       "      <td>NaN</td>\n",
       "      <td>NaN</td>\n",
       "      <td>NaN</td>\n",
       "      <td>NaN</td>\n",
       "      <td>NaN</td>\n",
       "      <td>NaN</td>\n",
       "      <td>NaN</td>\n",
       "      <td>NaN</td>\n",
       "      <td>Rick Adelman</td>\n",
       "    </tr>\n",
       "    <tr>\n",
       "      <th>2</th>\n",
       "      <td>POR</td>\n",
       "      <td>39.0</td>\n",
       "      <td>1985-86</td>\n",
       "      <td>NaN</td>\n",
       "      <td>NaN</td>\n",
       "      <td>NaN</td>\n",
       "      <td>NaN</td>\n",
       "      <td>NaN</td>\n",
       "      <td>NaN</td>\n",
       "      <td>NaN</td>\n",
       "      <td>...</td>\n",
       "      <td>NaN</td>\n",
       "      <td>NaN</td>\n",
       "      <td>NaN</td>\n",
       "      <td>NaN</td>\n",
       "      <td>NaN</td>\n",
       "      <td>NaN</td>\n",
       "      <td>NaN</td>\n",
       "      <td>NaN</td>\n",
       "      <td>NaN</td>\n",
       "      <td>Rick Adelman</td>\n",
       "    </tr>\n",
       "    <tr>\n",
       "      <th>3</th>\n",
       "      <td>POR</td>\n",
       "      <td>40.0</td>\n",
       "      <td>1986-87</td>\n",
       "      <td>NaN</td>\n",
       "      <td>NaN</td>\n",
       "      <td>NaN</td>\n",
       "      <td>NaN</td>\n",
       "      <td>NaN</td>\n",
       "      <td>NaN</td>\n",
       "      <td>NaN</td>\n",
       "      <td>...</td>\n",
       "      <td>NaN</td>\n",
       "      <td>NaN</td>\n",
       "      <td>NaN</td>\n",
       "      <td>NaN</td>\n",
       "      <td>NaN</td>\n",
       "      <td>NaN</td>\n",
       "      <td>NaN</td>\n",
       "      <td>NaN</td>\n",
       "      <td>NaN</td>\n",
       "      <td>Rick Adelman</td>\n",
       "    </tr>\n",
       "    <tr>\n",
       "      <th>4</th>\n",
       "      <td>POR</td>\n",
       "      <td>41.0</td>\n",
       "      <td>1987-88</td>\n",
       "      <td>NaN</td>\n",
       "      <td>NaN</td>\n",
       "      <td>NaN</td>\n",
       "      <td>NaN</td>\n",
       "      <td>NaN</td>\n",
       "      <td>NaN</td>\n",
       "      <td>NaN</td>\n",
       "      <td>...</td>\n",
       "      <td>NaN</td>\n",
       "      <td>NaN</td>\n",
       "      <td>NaN</td>\n",
       "      <td>NaN</td>\n",
       "      <td>NaN</td>\n",
       "      <td>NaN</td>\n",
       "      <td>NaN</td>\n",
       "      <td>NaN</td>\n",
       "      <td>NaN</td>\n",
       "      <td>Rick Adelman</td>\n",
       "    </tr>\n",
       "  </tbody>\n",
       "</table>\n",
       "<p>5 rows × 226 columns</p>\n",
       "</div>"
      ],
      "text/plain": [
       "  Playoffs Regular Season Unnamed: 0_level_0 Unnamed: 100_level_0  \\\n",
       "        Tm            Age             Season Unnamed: 100_level_1   \n",
       "0      POR           37.0            1983-84                  NaN   \n",
       "1      POR           38.0            1984-85                  NaN   \n",
       "2      POR           39.0            1985-86                  NaN   \n",
       "3      POR           40.0            1986-87                  NaN   \n",
       "4      POR           41.0            1987-88                  NaN   \n",
       "\n",
       "  Unnamed: 101_level_0 Unnamed: 102_level_0 Unnamed: 103_level_0  \\\n",
       "  Unnamed: 101_level_1 Unnamed: 102_level_1 Unnamed: 103_level_1   \n",
       "0                  NaN                  NaN                  NaN   \n",
       "1                  NaN                  NaN                  NaN   \n",
       "2                  NaN                  NaN                  NaN   \n",
       "3                  NaN                  NaN                  NaN   \n",
       "4                  NaN                  NaN                  NaN   \n",
       "\n",
       "  Unnamed: 104_level_0 Unnamed: 105_level_0 Unnamed: 106_level_0  \\\n",
       "  Unnamed: 104_level_1 Unnamed: 105_level_1 Unnamed: 106_level_1   \n",
       "0                  NaN                  NaN                  NaN   \n",
       "1                  NaN                  NaN                  NaN   \n",
       "2                  NaN                  NaN                  NaN   \n",
       "3                  NaN                  NaN                  NaN   \n",
       "4                  NaN                  NaN                  NaN   \n",
       "\n",
       "       ...      Unnamed: 92_level_0 Unnamed: 93_level_0 Unnamed: 94_level_0  \\\n",
       "       ...      Unnamed: 92_level_1 Unnamed: 93_level_1 Unnamed: 94_level_1   \n",
       "0      ...                      NaN                 NaN                 NaN   \n",
       "1      ...                      NaN                 NaN                 NaN   \n",
       "2      ...                      NaN                 NaN                 NaN   \n",
       "3      ...                      NaN                 NaN                 NaN   \n",
       "4      ...                      NaN                 NaN                 NaN   \n",
       "\n",
       "  Unnamed: 95_level_0 Unnamed: 96_level_0 Unnamed: 97_level_0  \\\n",
       "  Unnamed: 95_level_1 Unnamed: 96_level_1 Unnamed: 97_level_1   \n",
       "0                 NaN                 NaN                 NaN   \n",
       "1                 NaN                 NaN                 NaN   \n",
       "2                 NaN                 NaN                 NaN   \n",
       "3                 NaN                 NaN                 NaN   \n",
       "4                 NaN                 NaN                 NaN   \n",
       "\n",
       "  Unnamed: 98_level_0 Unnamed: 99_level_0 Unnamed: 9_level_0    coach_name  \n",
       "  Unnamed: 98_level_1 Unnamed: 99_level_1             Finish                \n",
       "0                 NaN                 NaN                NaN  Rick Adelman  \n",
       "1                 NaN                 NaN                NaN  Rick Adelman  \n",
       "2                 NaN                 NaN                NaN  Rick Adelman  \n",
       "3                 NaN                 NaN                NaN  Rick Adelman  \n",
       "4                 NaN                 NaN                NaN  Rick Adelman  \n",
       "\n",
       "[5 rows x 226 columns]"
      ]
     },
     "execution_count": 45,
     "metadata": {},
     "output_type": "execute_result"
    }
   ],
   "source": [
    "all_coach.head()"
   ]
  },
  {
   "cell_type": "code",
   "execution_count": 91,
   "metadata": {},
   "outputs": [],
   "source": [
    "df_coach=pd.DataFrame()"
   ]
  },
  {
   "cell_type": "code",
   "execution_count": 121,
   "metadata": {},
   "outputs": [],
   "source": [
    "df_coach['Team']=all_coach['Playoffs']['Tm']"
   ]
  },
  {
   "cell_type": "code",
   "execution_count": 93,
   "metadata": {},
   "outputs": [],
   "source": [
    "df_coach['coach_age']=all_coach['Regular Season']['Age']"
   ]
  },
  {
   "cell_type": "code",
   "execution_count": 94,
   "metadata": {},
   "outputs": [],
   "source": [
    "df_coach['coach_name']=all_coach['coach_name']"
   ]
  },
  {
   "cell_type": "code",
   "execution_count": 95,
   "metadata": {},
   "outputs": [],
   "source": [
    "df_coach['season']=all_coach['Unnamed: 0_level_0']['Season']"
   ]
  },
  {
   "cell_type": "code",
   "execution_count": 96,
   "metadata": {},
   "outputs": [],
   "source": [
    "df_coach['playoff_games']=all_coach['Unnamed: 11_level_0']['G']"
   ]
  },
  {
   "cell_type": "code",
   "execution_count": 97,
   "metadata": {},
   "outputs": [],
   "source": [
    "df_coach['playoff_wins']=all_coach['Unnamed: 12_level_0']['W']"
   ]
  },
  {
   "cell_type": "code",
   "execution_count": 98,
   "metadata": {},
   "outputs": [],
   "source": [
    "df_coach['playoff_loses']=all_coach['Unnamed: 13_level_0']['L']"
   ]
  },
  {
   "cell_type": "code",
   "execution_count": 99,
   "metadata": {},
   "outputs": [],
   "source": [
    "df_coach['playoff_W/L%']=all_coach['Unnamed: 14_level_0']['W/L%']"
   ]
  },
  {
   "cell_type": "code",
   "execution_count": 100,
   "metadata": {},
   "outputs": [],
   "source": [
    "df_coach['season_games']=all_coach['Unnamed: 4_level_0']['G']"
   ]
  },
  {
   "cell_type": "code",
   "execution_count": 101,
   "metadata": {},
   "outputs": [],
   "source": [
    "df_coach['season_wins']=all_coach['Unnamed: 5_level_0']['W']"
   ]
  },
  {
   "cell_type": "code",
   "execution_count": 102,
   "metadata": {},
   "outputs": [],
   "source": [
    "df_coach['season_loses']=all_coach['Unnamed: 6_level_0']['L']"
   ]
  },
  {
   "cell_type": "code",
   "execution_count": 103,
   "metadata": {},
   "outputs": [],
   "source": [
    "df_coach['season_W/L%']=all_coach['Unnamed: 7_level_0']['W/L%']"
   ]
  },
  {
   "cell_type": "code",
   "execution_count": 104,
   "metadata": {},
   "outputs": [],
   "source": [
    "df_coach['season_position']=all_coach['Unnamed: 9_level_0']['Finish']"
   ]
  },
  {
   "cell_type": "code",
   "execution_count": null,
   "metadata": {},
   "outputs": [],
   "source": []
  },
  {
   "cell_type": "code",
   "execution_count": null,
   "metadata": {},
   "outputs": [],
   "source": []
  },
  {
   "cell_type": "code",
   "execution_count": 82,
   "metadata": {},
   "outputs": [
    {
     "name": "stdout",
     "output_type": "stream",
     "text": [
      "<class 'pandas.core.frame.DataFrame'>\n",
      "Int64Index: 3982 entries, 0 to 5\n",
      "Data columns (total 13 columns):\n",
      "Team               3653 non-null object\n",
      "coach_age          3180 non-null float64\n",
      "coach_name         3982 non-null object\n",
      "season             3982 non-null object\n",
      "playoff_games      1094 non-null float64\n",
      "playoff_wins       1094 non-null float64\n",
      "playoff_loses      1094 non-null float64\n",
      "playoff_W/L%       1094 non-null float64\n",
      "season_games       3982 non-null object\n",
      "season_wins        2149 non-null float64\n",
      "season_loses       2149 non-null float64\n",
      "season_W/L%        2149 non-null float64\n",
      "season_position    1818 non-null float64\n",
      "dtypes: float64(9), object(4)\n",
      "memory usage: 435.5+ KB\n"
     ]
    }
   ],
   "source": [
    "df_coach.info()"
   ]
  },
  {
   "cell_type": "code",
   "execution_count": 184,
   "metadata": {},
   "outputs": [],
   "source": [
    "#remove coaches before season 2005 and remove years = 'Career'"
   ]
  },
  {
   "cell_type": "code",
   "execution_count": 154,
   "metadata": {},
   "outputs": [],
   "source": [
    "df_coach.dropna(axis=0,inplace=True) #dropped assistant coaches"
   ]
  },
  {
   "cell_type": "code",
   "execution_count": 173,
   "metadata": {},
   "outputs": [],
   "source": [
    "df_coach[df_coach['coach_name']=='Kenny Atkinson']; #check for phil Jackson"
   ]
  },
  {
   "cell_type": "code",
   "execution_count": null,
   "metadata": {},
   "outputs": [],
   "source": []
  },
  {
   "cell_type": "code",
   "execution_count": 223,
   "metadata": {},
   "outputs": [],
   "source": [
    "#remove coach before 2004"
   ]
  },
  {
   "cell_type": "markdown",
   "metadata": {},
   "source": [
    "# Continue from here"
   ]
  },
  {
   "cell_type": "code",
   "execution_count": 81,
   "metadata": {},
   "outputs": [],
   "source": [
    "# check to see all the data is in the table?"
   ]
  },
  {
   "cell_type": "code",
   "execution_count": 169,
   "metadata": {},
   "outputs": [],
   "source": [
    "temp=[]\n",
    "for element in coach_name:\n",
    "    if element not in df_coach['coach_name'].values:\n",
    "        temp.append(element)\n",
    "        "
   ]
  },
  {
   "cell_type": "code",
   "execution_count": 176,
   "metadata": {},
   "outputs": [
    {
     "data": {
      "text/plain": [
       "['Albert Soar',\n",
       " 'Alvin Julian',\n",
       " 'Andy Phillip',\n",
       " 'Bill Berry',\n",
       " 'Bill Bertka',\n",
       " 'Bill Cartwright',\n",
       " 'Bill Hanzlik',\n",
       " 'Bill Musselman',\n",
       " 'Bob Cousy',\n",
       " 'Bob Hopkins',\n",
       " 'Bob Kauffman',\n",
       " 'Bob Kloppenburg',\n",
       " 'Bob Lanier',\n",
       " 'Bob Pettit',\n",
       " 'Bob Staak',\n",
       " 'Brendan Malone',\n",
       " 'Brian Shaw',\n",
       " 'Brian Winters',\n",
       " 'Bruce Hale',\n",
       " 'Bucky Buckwalter',\n",
       " 'Burl Friddle',\n",
       " 'Butch Beard',\n",
       " 'Carl Bennett',\n",
       " 'Carl Braun',\n",
       " 'Charles Eckman',\n",
       " 'Charles Wolf',\n",
       " 'Charley Shipp',\n",
       " 'Chick Reiser',\n",
       " 'Chris Jent',\n",
       " 'Curly Armstrong',\n",
       " 'Darrell Walker',\n",
       " 'Dave DeBusschere',\n",
       " 'Dave McMillan',\n",
       " 'Dennis Johnson',\n",
       " 'Derek Fisher',\n",
       " 'Dick Fitzgerald',\n",
       " 'Dick Harter',\n",
       " 'Dick Van Arsdale',\n",
       " 'Dick Versace',\n",
       " 'Dick Vitale',\n",
       " 'Don Casey',\n",
       " 'Don Delaney',\n",
       " 'Draff Young',\n",
       " 'Dutch Dehnert',\n",
       " 'Earl Lloyd',\n",
       " 'Earl Watson',\n",
       " 'Ed Gregory',\n",
       " 'Ed Jucker',\n",
       " 'Ed Sadowski',\n",
       " 'Ed Tapscott',\n",
       " 'Eddie Donovan',\n",
       " 'Elgin Baylor',\n",
       " 'Eric Musselman',\n",
       " 'Frank Hamblen',\n",
       " 'Frank McGuire',\n",
       " 'Fred Carter',\n",
       " 'Fred Scolari',\n",
       " 'Gar Heard',\n",
       " 'Garry St. Jean',\n",
       " 'Gene Littles',\n",
       " 'Gene Tormohlen',\n",
       " 'George Mikan',\n",
       " 'Glenn Curtis',\n",
       " 'Herb Williams',\n",
       " 'Howie Schultz',\n",
       " 'Igor Kokoskov',\n",
       " 'Ike Duffey',\n",
       " 'Jack McCloskey',\n",
       " 'Jack Smiley',\n",
       " 'Jacque Vaughn',\n",
       " 'James Borrego',\n",
       " 'Jay Triano',\n",
       " 'Jeff Bower',\n",
       " 'Jeff Hornacek',\n",
       " 'Jerry Reynolds',\n",
       " 'Jerry Tarkanian',\n",
       " 'Jim Boylan',\n",
       " 'Jim Boylen',\n",
       " 'Jim Brovelli',\n",
       " 'Jim Cleamons',\n",
       " 'Jim Lynam',\n",
       " 'Jim Todd',\n",
       " 'Jimmy Darden',\n",
       " 'Jimmy Rodgers',\n",
       " 'John Carroll',\n",
       " 'John Castellani',\n",
       " 'John Kuester',\n",
       " 'John Logan',\n",
       " 'John Loyer',\n",
       " 'John Wetzel',\n",
       " 'Johnny Bach',\n",
       " 'Johnny Davis',\n",
       " 'Johnny McCarthy',\n",
       " 'Kaleb Canales',\n",
       " 'Keith Smart',\n",
       " 'Kenny Atkinson',\n",
       " 'Kenny Natt',\n",
       " \"Kevin O'Neill\",\n",
       " 'Kevin Pritchard',\n",
       " 'Kiki Vandeweghe',\n",
       " 'Kim Hughes',\n",
       " 'Larry Krystkowiak',\n",
       " 'Leonard Hamilton',\n",
       " 'Lew Hayman',\n",
       " 'Lindsey Hunter',\n",
       " 'Lloyd Pierce',\n",
       " 'Lon Kruger',\n",
       " 'Luke Walton',\n",
       " 'M.L. Carr',\n",
       " 'Mack Calvin',\n",
       " 'Magic Johnson',\n",
       " 'Marc Iavaroni',\n",
       " 'Mel Daniels',\n",
       " 'Melvin Hunt',\n",
       " 'Michael Cooper',\n",
       " 'Mike Dunlap',\n",
       " 'Mike Evans',\n",
       " 'Mike Farmer',\n",
       " 'Mike Malone',\n",
       " 'Mike Montgomery',\n",
       " 'Mike Todorovich',\n",
       " 'Morris McHone',\n",
       " 'Nat Hickey',\n",
       " 'Neil Cohalan',\n",
       " 'Nick Nurse',\n",
       " 'Pete Myers',\n",
       " 'Phil Johnson',\n",
       " 'Philip Sachs',\n",
       " 'Quinn Buckner',\n",
       " 'Randy Ayers',\n",
       " 'Randy Pfund',\n",
       " 'Reggie Theus',\n",
       " 'Rex Hughes',\n",
       " 'Robert Morris',\n",
       " 'Robert Rolfe',\n",
       " 'Rod Thorn',\n",
       " 'Roger Potter',\n",
       " 'Rolland Todd',\n",
       " 'Ron Rothstein',\n",
       " 'Roy Clifford',\n",
       " 'Roy Rubin',\n",
       " 'Ryan Saunders',\n",
       " 'Sam Vincent',\n",
       " 'Scotty Robertson',\n",
       " 'Sidney Lowe',\n",
       " 'Stu Inman',\n",
       " 'Stu Jackson',\n",
       " 'Tates Locke',\n",
       " 'Terry Dischinger',\n",
       " 'Tex Winter',\n",
       " 'Tim Floyd',\n",
       " 'Tom Barrise',\n",
       " 'Tom Marshall',\n",
       " 'Tom Sanders',\n",
       " 'Tony Barone',\n",
       " 'Tony Brown',\n",
       " 'Vince Boryla',\n",
       " 'Wally Jones',\n",
       " 'Walt Budko']"
      ]
     },
     "execution_count": 176,
     "metadata": {},
     "output_type": "execute_result"
    }
   ],
   "source": [
    "sorted(temp)"
   ]
  },
  {
   "cell_type": "code",
   "execution_count": null,
   "metadata": {},
   "outputs": [],
   "source": []
  }
 ],
 "metadata": {
  "kernelspec": {
   "display_name": "Python 3",
   "language": "python",
   "name": "python3"
  },
  "language_info": {
   "codemirror_mode": {
    "name": "ipython",
    "version": 3
   },
   "file_extension": ".py",
   "mimetype": "text/x-python",
   "name": "python",
   "nbconvert_exporter": "python",
   "pygments_lexer": "ipython3",
   "version": "3.7.2"
  }
 },
 "nbformat": 4,
 "nbformat_minor": 2
}
